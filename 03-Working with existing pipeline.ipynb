{
 "cells": [
  {
   "cell_type": "markdown",
   "metadata": {},
   "source": [
    "# Extending an existing pipeline"
   ]
  },
  {
   "cell_type": "markdown",
   "metadata": {},
   "source": [
    "One of the major strenghts of DataJoint is the ease at which you can take an existing data pipeline and extend it with your own tables, performing new analysis. In this session, you will continue to work in a group to:\n",
    "\n",
    "1. explore and understand an existing data pipeline\n",
    "2. extend the data pipeline with new analysis\n",
    "\n",
    "Let's get started!"
   ]
  },
  {
   "cell_type": "markdown",
   "metadata": {},
   "source": [
    "## Importing an existing pipeline"
   ]
  },
  {
   "cell_type": "markdown",
   "metadata": {},
   "source": [
    "As always, let's go ahead and import packages. We are also importing packages to perform analysis with."
   ]
  },
  {
   "cell_type": "code",
   "execution_count": null,
   "metadata": {},
   "outputs": [],
   "source": [
    "import datajoint as dj\n",
    "\n",
    "import numpy as np\n",
    "from matplotlib import pyplot as plt\n",
    "%matplotlib inline\n",
    "\n",
    "dj.config.load('dj_local_conf.json')"
   ]
  },
  {
   "cell_type": "markdown",
   "metadata": {},
   "source": [
    "We are provided access to an existing pipeline defined in `workshop.calcium`. Let's go ahead and import it!"
   ]
  },
  {
   "cell_type": "code",
   "execution_count": null,
   "metadata": {},
   "outputs": [],
   "source": [
    "import workshop.calcium as ca"
   ]
  },
  {
   "cell_type": "markdown",
   "metadata": {},
   "source": [
    "Let's take a look at the diagram of the pipeline to get an overview."
   ]
  },
  {
   "cell_type": "code",
   "execution_count": null,
   "metadata": {},
   "outputs": [],
   "source": [
    "dj.Diagram(ca)"
   ]
  },
  {
   "cell_type": "markdown",
   "metadata": {},
   "source": [
    "As you may be able to guess, this pipeline defines workflow for a multi-photon fluorescent functional imaging (Ca2+ imaging) of mouse. During a scan, the mouse may be presented visual stimulus (`ca.Stimulus`), and we might record the mouse's pupil information (`ca.Pupil`) and it's running state (`ca.Treadmill`)."
   ]
  },
  {
   "cell_type": "markdown",
   "metadata": {},
   "source": [
    "Go ahead and take some time to explore the pipeline. See if you can query the pipeline to gain better insights!"
   ]
  },
  {
   "cell_type": "markdown",
   "metadata": {},
   "source": [
    "# Exploring the data"
   ]
  },
  {
   "cell_type": "markdown",
   "metadata": {},
   "source": [
    "Let's carefully study the mouse's pupil information (`ca.Pupil`) and running state information (`ca.Treadmill`), and achieve the following:\n",
    "\n",
    "1. Pick a single scan for which both pupil and running state information is available.\n",
    "\n",
    "2. For that scan, plot all pupil related information over time. What information is available?\n",
    "\n",
    "3. For the same scan, plot running state traces over time\n",
    "\n",
    "4. Do you see any relationship between pupil and running state? How would you go about quantifying this?"
   ]
  },
  {
   "cell_type": "markdown",
   "metadata": {},
   "source": [
    "1) Pick a single scan with both `Pupil` and `Treadmill`"
   ]
  },
  {
   "cell_type": "code",
   "execution_count": null,
   "metadata": {},
   "outputs": [],
   "source": [
    "keys = (ca.Scan & ca.Pupil & ca.Treadmill).fetch('KEY')\n",
    "key = keys[1]"
   ]
  },
  {
   "cell_type": "markdown",
   "metadata": {},
   "source": [
    "2) Plot pupil information."
   ]
  },
  {
   "cell_type": "code",
   "execution_count": null,
   "metadata": {},
   "outputs": [],
   "source": [
    "ca.Pupil() & key"
   ]
  },
  {
   "cell_type": "code",
   "execution_count": null,
   "metadata": {},
   "outputs": [],
   "source": [
    "pupil_r, pupil_x, pupil_y = (ca.Pupil & key).fetch1('pupil_r', 'pupil_x', 'pupil_y')\n",
    "\n",
    "plt.plot(pupil_r, label='pupil radius')\n",
    "plt.plot(pupil_x, label='pupil x')\n",
    "plt.plot(pupil_y, label='pupil y')\n",
    "plt.legend(loc='upper right')"
   ]
  },
  {
   "cell_type": "markdown",
   "metadata": {},
   "source": [
    "3) plot running state"
   ]
  },
  {
   "cell_type": "code",
   "execution_count": null,
   "metadata": {},
   "outputs": [],
   "source": [
    "ca.Treadmill & key"
   ]
  },
  {
   "cell_type": "code",
   "execution_count": null,
   "metadata": {},
   "outputs": [],
   "source": [
    "velocity = (ca.Treadmill & key).fetch1('treadmill_vel')\n",
    "\n",
    "plt.plot(np.abs(velocity), label='treadmill velocity')\n",
    "plt.legend()"
   ]
  },
  {
   "cell_type": "markdown",
   "metadata": {},
   "source": [
    "Plot treadmill pupil size and treadmill velocity together"
   ]
  },
  {
   "cell_type": "code",
   "execution_count": null,
   "metadata": {},
   "outputs": [],
   "source": [
    "plt.subplot(2, 1, 1)\n",
    "plt.plot(pupil_r, label='pupil radius')\n",
    "plt.title('Pupil radius')\n",
    "plt.subplot(2, 1, 2)\n",
    "plt.plot(np.abs(velocity), label='treadmill velocity')\n",
    "plt.title('Absolute treadmill velocity')\n",
    "plt.tight_layout()"
   ]
  },
  {
   "cell_type": "markdown",
   "metadata": {},
   "source": [
    "Let's compute Pearson correlation coefficient.\n",
    "\n",
    "$$\n",
    "r = E\\left[\\frac{(x - \\mu_x)(y-\\mu_y)}{\\sigma_x \\sigma_y}\\right]\n",
    "$$"
   ]
  },
  {
   "cell_type": "code",
   "execution_count": null,
   "metadata": {},
   "outputs": [],
   "source": [
    "r = pupil_r\n",
    "v = np.absolute(velocity)\n",
    "\n",
    "mu_r = np.nanmean(r)\n",
    "mu_v = np.nanmean(v)\n",
    "\n",
    "sigma_r = np.nanstd(r)\n",
    "sigma_v = np.nanstd(v)\n",
    "\n",
    "corr = np.nanmean((r - mu_r) * (v - mu_v) / sigma_r / sigma_v)\n",
    "\n",
    "print('Correlation is {:.3f}'.format(corr))"
   ]
  },
  {
   "cell_type": "markdown",
   "metadata": {},
   "source": [
    "# Extending pipeline with our own analysis"
   ]
  },
  {
   "cell_type": "markdown",
   "metadata": {},
   "source": [
    "Looks like we might be onto something quite interesting! Let's go ahead and implement a table that will compute and store the analysis results for all scans.\n",
    "\n",
    "* What's the dependencies for the table?\n",
    "* What does each row represent? (In other words, what's the entity that's getting computed?)\n",
    "* What should be the tier for this table?"
   ]
  },
  {
   "cell_type": "code",
   "execution_count": null,
   "metadata": {},
   "outputs": [],
   "source": [
    "schema = dj.schema('ca_extension')"
   ]
  },
  {
   "cell_type": "code",
   "execution_count": null,
   "metadata": {},
   "outputs": [],
   "source": [
    "@schema\n",
    "class PupilCorr(dj.Computed):\n",
    "    definition = \"\"\"\n",
    "    -> ca.Pupil\n",
    "    -> ca.Treadmill \n",
    "    ---\n",
    "    pupil_corr :  float   # correlation between pupil radius and locomotion velccity\n",
    "    \"\"\"\n",
    "    \n",
    "    def make(self, key):\n",
    "        print('Working on ', key)\n",
    "        r = (ca.Pupil & key).fetch1('pupil_r')\n",
    "        v = (ca.Treadmill & key).fetch1('treadmill_vel')\n",
    "        v = np.abs(v)\n",
    "        \n",
    "        mu_r = np.nanmean(r)\n",
    "        mu_v = np.nanmean(v)\n",
    "\n",
    "        sigma_r = np.nanstd(r)\n",
    "        sigma_v = np.nanstd(v)\n",
    "\n",
    "        corr = np.nanmean((r - mu_r) * (v - mu_v) / sigma_r / sigma_v)\n",
    "        \n",
    "        key['pupil_corr'] = corr\n",
    "        self.insert1(key)"
   ]
  },
  {
   "cell_type": "code",
   "execution_count": null,
   "metadata": {},
   "outputs": [],
   "source": [
    "PupilCorr()"
   ]
  },
  {
   "cell_type": "code",
   "execution_count": null,
   "metadata": {},
   "outputs": [],
   "source": [
    "PupilCorr.populate()"
   ]
  },
  {
   "cell_type": "code",
   "execution_count": null,
   "metadata": {},
   "outputs": [],
   "source": [
    "PupilCorr()"
   ]
  },
  {
   "cell_type": "code",
   "execution_count": null,
   "metadata": {},
   "outputs": [],
   "source": [
    "PupilCorr.populate()"
   ]
  },
  {
   "cell_type": "code",
   "execution_count": null,
   "metadata": {},
   "outputs": [],
   "source": [
    "dj.Diagram(ca) + dj.Diagram(schema)"
   ]
  }
 ],
 "metadata": {
  "kernelspec": {
   "display_name": "Python 3",
   "language": "python",
   "name": "python3"
  },
  "language_info": {
   "codemirror_mode": {
    "name": "ipython",
    "version": 3
   },
   "file_extension": ".py",
   "mimetype": "text/x-python",
   "name": "python",
   "nbconvert_exporter": "python",
   "pygments_lexer": "ipython3",
   "version": "3.6.8"
  }
 },
 "nbformat": 4,
 "nbformat_minor": 4
}
