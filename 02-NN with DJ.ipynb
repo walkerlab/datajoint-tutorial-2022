{
 "cells": [
  {
   "cell_type": "markdown",
   "metadata": {},
   "source": [
    "# Neural Network Training with DataJoint"
   ]
  },
  {
   "cell_type": "markdown",
   "metadata": {},
   "source": [
    "In this session, we are going to look at how we can use DataJoint to train neural networks, exploring various **hyperparameters** for the training."
   ]
  },
  {
   "cell_type": "markdown",
   "metadata": {},
   "source": [
    "As always we are going to start with importing the essential scientific Python packages"
   ]
  },
  {
   "cell_type": "code",
   "execution_count": 1,
   "metadata": {},
   "outputs": [],
   "source": [
    "import numpy as np\n",
    "import matplotlib.pyplot as plt\n",
    "import datajoint as dj\n",
    "import time\n",
    "from tqdm import tqdm"
   ]
  },
  {
   "cell_type": "markdown",
   "metadata": {},
   "source": [
    "and we are also going to import the PyTorch package `torch` as well as the associated `torchvision` package that provides means of downloading and handling popular machine learning datasets."
   ]
  },
  {
   "cell_type": "code",
   "execution_count": 2,
   "metadata": {},
   "outputs": [
    {
     "name": "stderr",
     "output_type": "stream",
     "text": [
      "/usr/local/lib/python3.8/dist-packages/torchvision/io/image.py:13: UserWarning: Failed to load image Python extension: /usr/local/lib/python3.8/dist-packages/torchvision/image.so: undefined symbol: _ZNK3c1010TensorImpl36is_contiguous_nondefault_policy_implENS_12MemoryFormatE\n",
      "  warn(f\"Failed to load image Python extension: {e}\")\n"
     ]
    }
   ],
   "source": [
    "import torch # import the PyTorch package\n",
    "import torchvision # import trochvision package\n",
    "from torchvision import transforms # get torchvision's transforms subpackage"
   ]
  },
  {
   "cell_type": "markdown",
   "metadata": {},
   "source": [
    "As an example, we'll work with MNIST handwritten digit datasets."
   ]
  },
  {
   "cell_type": "code",
   "execution_count": 3,
   "metadata": {},
   "outputs": [
    {
     "name": "stdout",
     "output_type": "stream",
     "text": [
      "Downloading http://yann.lecun.com/exdb/mnist/train-images-idx3-ubyte.gz\n",
      "Downloading http://yann.lecun.com/exdb/mnist/train-images-idx3-ubyte.gz to ./data/MNIST/raw/train-images-idx3-ubyte.gz\n"
     ]
    },
    {
     "data": {
      "application/vnd.jupyter.widget-view+json": {
       "model_id": "0f88524d108a4962aa0dd6626fe1ea49",
       "version_major": 2,
       "version_minor": 0
      },
      "text/plain": [
       "  0%|          | 0/9912422 [00:00<?, ?it/s]"
      ]
     },
     "metadata": {},
     "output_type": "display_data"
    },
    {
     "name": "stdout",
     "output_type": "stream",
     "text": [
      "Extracting ./data/MNIST/raw/train-images-idx3-ubyte.gz to ./data/MNIST/raw\n",
      "\n",
      "Downloading http://yann.lecun.com/exdb/mnist/train-labels-idx1-ubyte.gz\n",
      "Downloading http://yann.lecun.com/exdb/mnist/train-labels-idx1-ubyte.gz to ./data/MNIST/raw/train-labels-idx1-ubyte.gz\n"
     ]
    },
    {
     "data": {
      "application/vnd.jupyter.widget-view+json": {
       "model_id": "dd6db0c881a245979a1cf29f92032b50",
       "version_major": 2,
       "version_minor": 0
      },
      "text/plain": [
       "  0%|          | 0/28881 [00:00<?, ?it/s]"
      ]
     },
     "metadata": {},
     "output_type": "display_data"
    },
    {
     "name": "stdout",
     "output_type": "stream",
     "text": [
      "Extracting ./data/MNIST/raw/train-labels-idx1-ubyte.gz to ./data/MNIST/raw\n",
      "\n",
      "Downloading http://yann.lecun.com/exdb/mnist/t10k-images-idx3-ubyte.gz\n",
      "Downloading http://yann.lecun.com/exdb/mnist/t10k-images-idx3-ubyte.gz to ./data/MNIST/raw/t10k-images-idx3-ubyte.gz\n"
     ]
    },
    {
     "data": {
      "application/vnd.jupyter.widget-view+json": {
       "model_id": "194526610de74b4cadf21fa4961616b5",
       "version_major": 2,
       "version_minor": 0
      },
      "text/plain": [
       "  0%|          | 0/1648877 [00:00<?, ?it/s]"
      ]
     },
     "metadata": {},
     "output_type": "display_data"
    },
    {
     "name": "stdout",
     "output_type": "stream",
     "text": [
      "Extracting ./data/MNIST/raw/t10k-images-idx3-ubyte.gz to ./data/MNIST/raw\n",
      "\n",
      "Downloading http://yann.lecun.com/exdb/mnist/t10k-labels-idx1-ubyte.gz\n",
      "Downloading http://yann.lecun.com/exdb/mnist/t10k-labels-idx1-ubyte.gz to ./data/MNIST/raw/t10k-labels-idx1-ubyte.gz\n"
     ]
    },
    {
     "data": {
      "application/vnd.jupyter.widget-view+json": {
       "model_id": "617ecf16e3ec481cbd36e82afb98fe90",
       "version_major": 2,
       "version_minor": 0
      },
      "text/plain": [
       "  0%|          | 0/4542 [00:00<?, ?it/s]"
      ]
     },
     "metadata": {},
     "output_type": "display_data"
    },
    {
     "name": "stdout",
     "output_type": "stream",
     "text": [
      "Extracting ./data/MNIST/raw/t10k-labels-idx1-ubyte.gz to ./data/MNIST/raw\n",
      "\n"
     ]
    }
   ],
   "source": [
    "# create a composite transform that first converts images to tensors and then normalize the images\n",
    "image_transform = transforms.Compose([\n",
    "    transforms.ToTensor(), # converts images into Tensors\n",
    "    transforms.Normalize([0.1307], [0.3081])\n",
    "])\n",
    "\n",
    "# apply the transforms at the time of dataset loading\n",
    "train_set = torchvision.datasets.MNIST('./data', train=True, download=True,\n",
    "                                          transform=image_transform)\n",
    "test_set = torchvision.datasets.MNIST('./data', train=True, download=True,\n",
    "                                          transform=image_transform)"
   ]
  },
  {
   "cell_type": "markdown",
   "metadata": {},
   "source": [
    "This returns Torchvision's special **dataset** object that can be used to represent **supervised datasets** consisting of both inputs (i.e. images) and targets (i.e. digit labels)."
   ]
  },
  {
   "cell_type": "code",
   "execution_count": 4,
   "metadata": {},
   "outputs": [
    {
     "data": {
      "text/plain": [
       "60000"
      ]
     },
     "execution_count": 4,
     "metadata": {},
     "output_type": "execute_result"
    }
   ],
   "source": [
    "len(train_set)"
   ]
  },
  {
   "cell_type": "code",
   "execution_count": 5,
   "metadata": {},
   "outputs": [],
   "source": [
    "image, label = train_set[100]"
   ]
  },
  {
   "cell_type": "code",
   "execution_count": 6,
   "metadata": {},
   "outputs": [
    {
     "data": {
      "text/plain": [
       "Text(0.5, 1.0, 'Digit: 5')"
      ]
     },
     "execution_count": 6,
     "metadata": {},
     "output_type": "execute_result"
    },
    {
     "data": {
      "image/png": "[encoded data removed]",
      "text/plain": [
       "<Figure size 640x480 with 1 Axes>"
      ]
     },
     "metadata": {},
     "output_type": "display_data"
    }
   ],
   "source": [
    "plt.imshow(image.squeeze(), cmap='gray')\n",
    "plt.title('Digit: {}'.format(label))"
   ]
  },
  {
   "cell_type": "code",
   "execution_count": 7,
   "metadata": {},
   "outputs": [
    {
     "data": {
      "image/png": "[encoded data removed]",
      "text/plain": [
       "<Figure size 900x900 with 25 Axes>"
      ]
     },
     "metadata": {},
     "output_type": "display_data"
    }
   ],
   "source": [
    "fig, axs = plt.subplots(5, 5, figsize=(6, 6), dpi=150)\n",
    "\n",
    "for i, ax in enumerate(axs.ravel()):\n",
    "    image, label = train_set[i]\n",
    "    ax.imshow(image.squeeze(), cmap='gray')\n",
    "    ax.set_title('Digit: {}'.format(label))\n",
    "    ax.axis('off')\n",
    "    \n",
    "fig.tight_layout()"
   ]
  },
  {
   "cell_type": "code",
   "execution_count": 8,
   "metadata": {},
   "outputs": [],
   "source": [
    "image, label = test_set[3]"
   ]
  },
  {
   "cell_type": "code",
   "execution_count": 9,
   "metadata": {},
   "outputs": [
    {
     "data": {
      "text/plain": [
       "Text(0.5, 1.0, 'Digit: 1')"
      ]
     },
     "execution_count": 9,
     "metadata": {},
     "output_type": "execute_result"
    },
    {
     "data": {
      "image/png": "[encoded data removed]",
      "text/plain": [
       "<Figure size 640x480 with 1 Axes>"
      ]
     },
     "metadata": {},
     "output_type": "display_data"
    }
   ],
   "source": [
    "plt.imshow(image.squeeze(), cmap='gray')\n",
    "plt.title('Digit: {}'.format(label))"
   ]
  },
  {
   "cell_type": "markdown",
   "metadata": {},
   "source": [
    "# Building a network for classification"
   ]
  },
  {
   "cell_type": "markdown",
   "metadata": {},
   "source": [
    "In PyTorch, you define a new neural network by defining a **new class that inherits from nn.Module** as follows:"
   ]
  },
  {
   "cell_type": "code",
   "execution_count": 10,
   "metadata": {},
   "outputs": [],
   "source": [
    "import torch.nn as nn\n",
    "import torch.nn.functional as F"
   ]
  },
  {
   "cell_type": "code",
   "execution_count": 11,
   "metadata": {},
   "outputs": [],
   "source": [
    "class Network(nn.Module):\n",
    "    def __init__(self, hidden_size=50):\n",
    "        super().__init__()\n",
    "        self.fc1 = nn.Linear(784, hidden_size)\n",
    "        self.fc2 = nn.Linear(hidden_size, 10)\n",
    "        \n",
    "    def forward(self, x):\n",
    "        x = x.view(-1, 784) # flattens an image of form N x 1 x 28 x 28 -> N x 784\n",
    "        x = F.relu(self.fc1(x)) # first fully connected layer followed by ReLU\n",
    "        x = self.fc2(x) # third fully connected layer *without* output ReLU\n",
    "        x = F.log_softmax(x, dim=1) # make sure that probabilities add up to one, and then take log\n",
    "        return x"
   ]
  },
  {
   "cell_type": "markdown",
   "metadata": {},
   "source": [
    "This network was **one hyperparameter - the size of the hidden layer** (defaulting to 50 here)"
   ]
  },
  {
   "cell_type": "code",
   "execution_count": 12,
   "metadata": {},
   "outputs": [],
   "source": [
    "batch_size = 64 # this is another hyperparameter!\n",
    "training_loader = torch.utils.data.DataLoader(train_set, batch_size=batch_size, shuffle=True)\n",
    "test_loader = torch.utils.data.DataLoader(test_set, batch_size=batch_size) # by default shuffle is False"
   ]
  },
  {
   "cell_type": "markdown",
   "metadata": {},
   "source": [
    "## Training the network"
   ]
  },
  {
   "cell_type": "code",
   "execution_count": 13,
   "metadata": {},
   "outputs": [
    {
     "name": "stdout",
     "output_type": "stream",
     "text": [
      "Epoch 0 Loss: 2.359733\n",
      "Epoch 0 Loss: 1.484619\n",
      "Epoch 0 Loss: 1.015266\n",
      "Epoch 0 Loss: 0.837175\n",
      "Epoch 0 Loss: 0.660247\n",
      "Epoch 0 Loss: 0.679588\n",
      "Epoch 0 Loss: 0.382023\n",
      "Epoch 0 Loss: 0.498779\n",
      "Epoch 0 Loss: 0.418124\n",
      "Epoch 0 Loss: 0.401161\n",
      "Epoch 1 Loss: 0.355251\n",
      "Epoch 1 Loss: 0.309785\n",
      "Epoch 1 Loss: 0.291532\n",
      "Epoch 1 Loss: 0.272608\n",
      "Epoch 1 Loss: 0.482465\n",
      "Epoch 1 Loss: 0.336396\n",
      "Epoch 1 Loss: 0.296591\n",
      "Epoch 1 Loss: 0.253226\n",
      "Epoch 1 Loss: 0.361455\n",
      "Epoch 1 Loss: 0.405660\n",
      "Epoch 2 Loss: 0.402536\n",
      "Epoch 2 Loss: 0.433772\n",
      "Epoch 2 Loss: 0.198952\n",
      "Epoch 2 Loss: 0.339058\n",
      "Epoch 2 Loss: 0.321019\n",
      "Epoch 2 Loss: 0.209671\n",
      "Epoch 2 Loss: 0.226171\n",
      "Epoch 2 Loss: 0.292583\n",
      "Epoch 2 Loss: 0.226867\n",
      "Epoch 2 Loss: 0.311137\n",
      "Training completed in 34.53 seconds\n"
     ]
    }
   ],
   "source": [
    "net = Network()\n",
    "net.train() # puts the network into the training mode\n",
    "\n",
    "# create and initialize an optimizer\n",
    "# learning rate is another hyperparameter!\n",
    "optimizer = torch.optim.SGD(net.parameters(), lr=0.005)\n",
    "\n",
    "start = time.time()\n",
    "for epoch_idx in range(3): # number of epochs is yet another hyperparameter!\n",
    "    for batch_idx, (data, target) in enumerate(training_loader):\n",
    "        # reset the gradient before the next gradient step\n",
    "        optimizer.zero_grad()\n",
    "\n",
    "        # evaluate the network output\n",
    "        output = net(data)\n",
    "\n",
    "        # compute the loss\n",
    "        loss = F.nll_loss(output, target)\n",
    "\n",
    "        # perform back propagation to compute gradients with respect to parameters!\n",
    "        loss.backward()\n",
    "\n",
    "        # perform a gradient descent step on the parameters\n",
    "        optimizer.step()\n",
    "\n",
    "        # report the loss every 100 batches\n",
    "        if batch_idx % 100 == 0:\n",
    "            print('Epoch {} Loss: {:.6f}'.format(epoch_idx, loss.item()))\n",
    "            \n",
    "duration = time.time() - start\n",
    "print('Training completed in {:.2f} seconds'.format(duration))"
   ]
  },
  {
   "cell_type": "markdown",
   "metadata": {},
   "source": [
    "## Evaluating the network"
   ]
  },
  {
   "cell_type": "code",
   "execution_count": 14,
   "metadata": {},
   "outputs": [
    {
     "name": "stderr",
     "output_type": "stream",
     "text": [
      "100%|██████████| 938/938 [00:11<00:00, 84.27it/s]"
     ]
    },
    {
     "name": "stdout",
     "output_type": "stream",
     "text": [
      "\n",
      "Test set: Average loss: 0.2992, Accuracy: 54786/60000 (91%)\n",
      "\n"
     ]
    },
    {
     "name": "stderr",
     "output_type": "stream",
     "text": [
      "\n"
     ]
    }
   ],
   "source": [
    "net.eval() # put network into evaluation model\n",
    "test_loss = 0\n",
    "correct = 0\n",
    "\n",
    "# prevents unnecessary gradient computation during test - can lead to time and memory saving\n",
    "with torch.no_grad(): \n",
    "    for data, target in tqdm(test_loader):\n",
    "        output = net(data)\n",
    "        \n",
    "        # sum up batch loss\n",
    "        test_loss += F.nll_loss(output, target, reduction='sum').item() \n",
    "        \n",
    "        # get the index of the max log-probability\n",
    "        pred = output.max(1, keepdim=True)[1] \n",
    "        \n",
    "        # count number of times where max probability matches the label index\n",
    "        correct += pred.eq(target.view_as(pred)).sum().item()\n",
    "\n",
    "# divide the test loss by number of samples in the test set\n",
    "test_loss /= len(test_loader.dataset)\n",
    "accuracy = correct / len(test_loader.dataset)\n",
    "\n",
    "print('\\nTest set: Average loss: {:.4f}, Accuracy: {}/{} ({:.0f}%)\\n'.format(\n",
    "    test_loss, correct, len(test_loader.dataset),\n",
    "    100. * accuracy))"
   ]
  },
  {
   "cell_type": "markdown",
   "metadata": {},
   "source": [
    "Let's look at actual guesses"
   ]
  },
  {
   "cell_type": "code",
   "execution_count": 15,
   "metadata": {},
   "outputs": [
    {
     "data": {
      "image/png": "[encoded data removed]",
      "text/plain": [
       "<Figure size 900x900 with 25 Axes>"
      ]
     },
     "metadata": {},
     "output_type": "display_data"
    }
   ],
   "source": [
    "fig, axs = plt.subplots(5, 5, figsize=(6, 6), dpi=150)\n",
    "image_order = np.random.permutation(len(test_set))\n",
    "for i, ax in zip(image_order, axs.ravel()):\n",
    "    image, label = test_set[i]\n",
    "    p = torch.exp(net(image))\n",
    "    digit = torch.argmax(p)\n",
    "    ax.imshow(image.squeeze(), cmap='gray')\n",
    "    ax.set_title('Guess: {}\\nActual: {}'.format(digit, label))\n",
    "    ax.axis('off')\n",
    "    \n",
    "fig.tight_layout()"
   ]
  },
  {
   "cell_type": "markdown",
   "metadata": {},
   "source": [
    "## Using DataJoint to coordinate the training"
   ]
  },
  {
   "cell_type": "markdown",
   "metadata": {},
   "source": [
    "Now let's see how we can use DataJoint to streamline this process."
   ]
  },
  {
   "cell_type": "code",
   "execution_count": 16,
   "metadata": {},
   "outputs": [],
   "source": [
    "import datajoint as dj"
   ]
  },
  {
   "cell_type": "code",
   "execution_count": 17,
   "metadata": {},
   "outputs": [
    {
     "name": "stderr",
     "output_type": "stream",
     "text": [
      "[2022-08-17 20:32:11,835][INFO]: Connecting root@mysql:3306\n",
      "[2022-08-17 20:32:11,844][INFO]: Connected root@mysql:3306\n"
     ]
    }
   ],
   "source": [
    "# create a new schema to house tables for network training\n",
    "schema = dj.schema('network')"
   ]
  },
  {
   "cell_type": "code",
   "execution_count": 18,
   "metadata": {},
   "outputs": [],
   "source": [
    "@schema\n",
    "class NetworkConfig(dj.Lookup):\n",
    "    definition = \"\"\"\n",
    "    hidden_size: int    # size of hidden layer\n",
    "    \"\"\"\n",
    "    contents = zip([50])\n",
    "    \n",
    "@schema\n",
    "class TrainingConfig(dj.Lookup):\n",
    "    definition = \"\"\"\n",
    "    train_config_id: int   # unique id for a training config\n",
    "    ---\n",
    "    learning_rate: float   # learning rate for SGD\n",
    "    batch_size: int        # batch_size for training\n",
    "    n_epochs: int          # number of epochs to train\n",
    "    \"\"\"\n",
    "    contents = [\n",
    "        (0, 0.005, 64, 3)\n",
    "    ]\n",
    "    \n",
    "\n",
    "@schema\n",
    "class TrainedNetwork(dj.Computed):\n",
    "    definition = \"\"\"\n",
    "    -> NetworkConfig\n",
    "    -> TrainingConfig\n",
    "    ---\n",
    "    train_duration: float   # duration of training in seconds\n",
    "    test_loss: float        # loss on the test set\n",
    "    test_acc: float         # accuracy on the test set\n",
    "    \"\"\"\n",
    "    \n",
    "    def make(self, key):\n",
    "        # Get configurations!\n",
    "        hidden_size = (NetworkConfig & key).fetch1('hidden_size')\n",
    "        learning_rate, batch_size, n_epochs = (TrainingConfig & key).fetch1('learning_rate',\n",
    "                                                                            'batch_size',\n",
    "                                                                            'n_epochs')\n",
    "        # convert from numpy array into int\n",
    "        batch_size, n_eochs = int(batch_size), int(n_epochs)\n",
    "        \n",
    "        # prepare the data\n",
    "        image_transform = transforms.Compose([\n",
    "            transforms.ToTensor(), # converts images into Tensors\n",
    "            transforms.Normalize([0.1307], [0.3081])\n",
    "        ])\n",
    "\n",
    "        # apply the transforms at the time of dataset loading\n",
    "        train_set = torchvision.datasets.MNIST('./data', train=True, download=True,\n",
    "                                                  transform=image_transform)\n",
    "        test_set = torchvision.datasets.MNIST('./data', train=True, download=True,\n",
    "                                                  transform=image_transform)\n",
    "        \n",
    "        # prepare data loaders\n",
    "        training_loader = torch.utils.data.DataLoader(train_set, batch_size=batch_size, shuffle=True)\n",
    "        test_loader = torch.utils.data.DataLoader(test_set, batch_size=batch_size) # by default shuffle is False\n",
    "        \n",
    "        # instantiate the network\n",
    "        net = Network(hidden_size=hidden_size)\n",
    "        net.train() # puts the network into the training mode\n",
    "\n",
    "        # configure optimizer\n",
    "        optimizer = torch.optim.SGD(net.parameters(), lr=learning_rate)\n",
    "\n",
    "        start = time.time()\n",
    "        for epoch_idx in range(n_epochs):\n",
    "            for batch_idx, (data, target) in enumerate(training_loader):\n",
    "                # reset the gradient before the next gradient step\n",
    "                optimizer.zero_grad()\n",
    "\n",
    "                # evaluate the network output\n",
    "                output = net(data)\n",
    "\n",
    "                # compute the loss\n",
    "                loss = F.nll_loss(output, target)\n",
    "\n",
    "                # perform back propagation to compute gradients with respect to parameters!\n",
    "                loss.backward()\n",
    "\n",
    "                # perform a gradient descent step on the parameters\n",
    "                optimizer.step()\n",
    "\n",
    "                # report the loss every 100 batches\n",
    "                if batch_idx % 100 == 0:\n",
    "                    print('Epoch {} Loss: {:.6f}'.format(epoch_idx, loss.item()))\n",
    "\n",
    "        duration = time.time() - start\n",
    "        print('Training completed in {:.2f} seconds'.format(duration))\n",
    "        \n",
    "        ## Evaluate the network\n",
    "        net.eval() # put network into evaluation model\n",
    "        test_loss = 0\n",
    "        correct = 0\n",
    "\n",
    "        # prevents unnecessary gradient computation during test - can lead to time and memory saving\n",
    "        with torch.no_grad(): \n",
    "            for data, target in test_loader:\n",
    "                output = net(data)\n",
    "\n",
    "                # sum up batch loss\n",
    "                test_loss += F.nll_loss(output, target, reduction='sum').item() \n",
    "\n",
    "                # get the index of the max log-probability\n",
    "                pred = output.max(1, keepdim=True)[1] \n",
    "\n",
    "                # count number of times where max probability matches the label index\n",
    "                correct += pred.eq(target.view_as(pred)).sum().item()\n",
    "\n",
    "        # divide the test loss by number of samples in the test set\n",
    "        test_loss /= len(test_loader.dataset)\n",
    "        \n",
    "        # compute accuracy\n",
    "        accuracy = correct / len(test_loader.dataset)\n",
    "\n",
    "        print('\\nTest set: Average loss: {:.4f}, Accuracy: {}/{} ({:.0f}%)\\n'.format(\n",
    "            test_loss, correct, len(test_loader.dataset),\n",
    "            100. * accuracy))\n",
    "        \n",
    "        key['train_duration'] = duration\n",
    "        key['test_loss'] = test_loss\n",
    "        key['test_acc'] = accuracy\n",
    "        \n",
    "        self.insert1(key)"
   ]
  },
  {
   "cell_type": "code",
   "execution_count": 19,
   "metadata": {},
   "outputs": [
    {
     "data": {
      "image/svg+xml": [
       "<svg xmlns=\"http://www.w3.org/2000/svg\" xmlns:xlink=\"http://www.w3.org/1999/xlink\" width=\"188pt\" height=\"105pt\" viewBox=\"0.00 0.00 188.00 105.00\">\n",
       "<g id=\"graph0\" class=\"graph\" transform=\"scale(1 1) rotate(0) translate(4 101)\">\n",
       "<title>%3</title>\n",
       "<polygon fill=\"white\" stroke=\"transparent\" points=\"-4,4 -4,-101 184,-101 184,4 -4,4\"/>\n",
       "<!-- TrainingConfig -->\n",
       "<g id=\"node1\" class=\"node\">\n",
       "<title>TrainingConfig</title>\n",
       "<g id=\"a_node1\"><a xlink:title=\"train_config_id      \r",
       "------------------------------\r",
       "learning_rate        \r",
       "batch_size           \r",
       "n_epochs             \r",
       "\">\n",
       "<polygon fill=\"#000000\" fill-opacity=\"0.125490\" stroke=\"transparent\" points=\"80,-97 0,-97 0,-62 80,-62 80,-97\"/>\n",
       "<text text-anchor=\"start\" x=\"8\" y=\"-78\" font-family=\"arial\" text-decoration=\"underline\" font-size=\"10.00\">TrainingConfig</text>\n",
       "</a>\n",
       "</g>\n",
       "</g>\n",
       "<!-- TrainedNetwork -->\n",
       "<g id=\"node3\" class=\"node\">\n",
       "<title>TrainedNetwork</title>\n",
       "<g id=\"a_node3\"><a xlink:title=\"→ NetworkConfig\r",
       "→ TrainingConfig\r",
       "------------------------------\r",
       "train_duration       \r",
       "test_loss            \r",
       "test_acc             \r",
       "\">\n",
       "<ellipse fill=\"#ff0000\" fill-opacity=\"0.125490\" stroke=\"#ff0000\" stroke-opacity=\"0.125490\" cx=\"89\" cy=\"-13\" rx=\"13\" ry=\"13\"/>\n",
       "<text text-anchor=\"middle\" x=\"89\" y=\"-9.9\" font-family=\"arial\" font-size=\"12.00\" fill=\"#7f0000\" fill-opacity=\"0.627451\">TrainedNetwork</text>\n",
       "</a>\n",
       "</g>\n",
       "</g>\n",
       "<!-- TrainingConfig&#45;&gt;TrainedNetwork -->\n",
       "<g id=\"edge1\" class=\"edge\">\n",
       "<title>TrainingConfig-&gt;TrainedNetwork</title>\n",
       "<path fill=\"none\" stroke=\"#000000\" stroke-width=\"0.75\" stroke-opacity=\"0.250980\" d=\"M52.62,-61.89C61.81,-49.8 73.93,-33.83 81.6,-23.74\"/>\n",
       "</g>\n",
       "<!-- NetworkConfig -->\n",
       "<g id=\"node2\" class=\"node\">\n",
       "<title>NetworkConfig</title>\n",
       "<g id=\"a_node2\"><a xlink:title=\"hidden_size          \r",
       "\">\n",
       "<polygon fill=\"#000000\" fill-opacity=\"0.125490\" stroke=\"transparent\" points=\"180,-97 98,-97 98,-62 180,-62 180,-97\"/>\n",
       "<text text-anchor=\"start\" x=\"106\" y=\"-78\" font-family=\"arial\" text-decoration=\"underline\" font-size=\"10.00\">NetworkConfig</text>\n",
       "</a>\n",
       "</g>\n",
       "</g>\n",
       "<!-- NetworkConfig&#45;&gt;TrainedNetwork -->\n",
       "<g id=\"edge2\" class=\"edge\">\n",
       "<title>NetworkConfig-&gt;TrainedNetwork</title>\n",
       "<path fill=\"none\" stroke=\"#000000\" stroke-width=\"0.75\" stroke-opacity=\"0.250980\" d=\"M126.12,-61.89C116.75,-49.8 104.37,-33.83 96.55,-23.74\"/>\n",
       "</g>\n",
       "</g>\n",
       "</svg>"
      ],
      "text/plain": [
       "<datajoint.diagram.Diagram at 0x7fccac717100>"
      ]
     },
     "execution_count": 19,
     "metadata": {},
     "output_type": "execute_result"
    }
   ],
   "source": [
    "dj.Diagram(schema)"
   ]
  },
  {
   "cell_type": "code",
   "execution_count": 20,
   "metadata": {},
   "outputs": [
    {
     "data": {
      "text/html": [
       "\n",
       "    \n",
       "    <style type=\"text/css\">\n",
       "        .Relation{\n",
       "            border-collapse:collapse;\n",
       "        }\n",
       "        .Relation th{\n",
       "            background: #A0A0A0; color: #ffffff; padding:4px; border:#f0e0e0 1px solid;\n",
       "            font-weight: normal; font-family: monospace; font-size: 100%;\n",
       "        }\n",
       "        .Relation td{\n",
       "            padding:4px; border:#f0e0e0 1px solid; font-size:100%;\n",
       "        }\n",
       "        .Relation tr:nth-child(odd){\n",
       "            background: #ffffff;\n",
       "        }\n",
       "        .Relation tr:nth-child(even){\n",
       "            background: #f3f1ff;\n",
       "        }\n",
       "        /* Tooltip container */\n",
       "        .djtooltip {\n",
       "        }\n",
       "        /* Tooltip text */\n",
       "        .djtooltip .djtooltiptext {\n",
       "            visibility: hidden;\n",
       "            width: 120px;\n",
       "            background-color: black;\n",
       "            color: #fff;\n",
       "            text-align: center;\n",
       "            padding: 5px 0;\n",
       "            border-radius: 6px;\n",
       "            /* Position the tooltip text - see examples below! */\n",
       "            position: absolute;\n",
       "            z-index: 1;\n",
       "        }\n",
       "        #primary {\n",
       "            font-weight: bold;\n",
       "            color: black;\n",
       "        }\n",
       "        #nonprimary {\n",
       "            font-weight: normal;\n",
       "            color: white;\n",
       "        }\n",
       "\n",
       "        /* Show the tooltip text when you mouse over the tooltip container */\n",
       "        .djtooltip:hover .djtooltiptext {\n",
       "            visibility: visible;\n",
       "        }\n",
       "    </style>\n",
       "    \n",
       "    <b></b>\n",
       "        <div style=\"max-height:1000px;max-width:1500px;overflow:auto;\">\n",
       "        <table border=\"1\" class=\"Relation\">\n",
       "            <thead> <tr style=\"text-align: right;\"> <th> <div class=\"djtooltip\">\n",
       "                            <p id=\"primary\">train_config_id</p>\n",
       "                            <span class=\"djtooltiptext\">unique id for a training config</span>\n",
       "                        </div></th><th><div class=\"djtooltip\">\n",
       "                            <p id=\"nonprimary\">learning_rate</p>\n",
       "                            <span class=\"djtooltiptext\">learning rate for SGD</span>\n",
       "                        </div></th><th><div class=\"djtooltip\">\n",
       "                            <p id=\"nonprimary\">batch_size</p>\n",
       "                            <span class=\"djtooltiptext\">batch_size for training</span>\n",
       "                        </div></th><th><div class=\"djtooltip\">\n",
       "                            <p id=\"nonprimary\">n_epochs</p>\n",
       "                            <span class=\"djtooltiptext\">number of epochs to train</span>\n",
       "                        </div> </th> </tr> </thead>\n",
       "            <tbody> <tr> <td>0</td>\n",
       "<td>0.005</td>\n",
       "<td>64</td>\n",
       "<td>3</td> </tr> </tbody>\n",
       "        </table>\n",
       "        \n",
       "        <p>Total: 1</p></div>\n",
       "        "
      ],
      "text/plain": [
       "*train_config_ learning_rate  batch_size     n_epochs    \n",
       "+------------+ +------------+ +------------+ +----------+\n",
       "0              0.005          64             3           \n",
       " (Total: 1)"
      ]
     },
     "execution_count": 20,
     "metadata": {},
     "output_type": "execute_result"
    }
   ],
   "source": [
    "TrainingConfig()"
   ]
  },
  {
   "cell_type": "code",
   "execution_count": 21,
   "metadata": {},
   "outputs": [
    {
     "data": {
      "text/html": [
       "\n",
       "    \n",
       "    <style type=\"text/css\">\n",
       "        .Relation{\n",
       "            border-collapse:collapse;\n",
       "        }\n",
       "        .Relation th{\n",
       "            background: #A0A0A0; color: #ffffff; padding:4px; border:#f0e0e0 1px solid;\n",
       "            font-weight: normal; font-family: monospace; font-size: 100%;\n",
       "        }\n",
       "        .Relation td{\n",
       "            padding:4px; border:#f0e0e0 1px solid; font-size:100%;\n",
       "        }\n",
       "        .Relation tr:nth-child(odd){\n",
       "            background: #ffffff;\n",
       "        }\n",
       "        .Relation tr:nth-child(even){\n",
       "            background: #f3f1ff;\n",
       "        }\n",
       "        /* Tooltip container */\n",
       "        .djtooltip {\n",
       "        }\n",
       "        /* Tooltip text */\n",
       "        .djtooltip .djtooltiptext {\n",
       "            visibility: hidden;\n",
       "            width: 120px;\n",
       "            background-color: black;\n",
       "            color: #fff;\n",
       "            text-align: center;\n",
       "            padding: 5px 0;\n",
       "            border-radius: 6px;\n",
       "            /* Position the tooltip text - see examples below! */\n",
       "            position: absolute;\n",
       "            z-index: 1;\n",
       "        }\n",
       "        #primary {\n",
       "            font-weight: bold;\n",
       "            color: black;\n",
       "        }\n",
       "        #nonprimary {\n",
       "            font-weight: normal;\n",
       "            color: white;\n",
       "        }\n",
       "\n",
       "        /* Show the tooltip text when you mouse over the tooltip container */\n",
       "        .djtooltip:hover .djtooltiptext {\n",
       "            visibility: visible;\n",
       "        }\n",
       "    </style>\n",
       "    \n",
       "    <b></b>\n",
       "        <div style=\"max-height:1000px;max-width:1500px;overflow:auto;\">\n",
       "        <table border=\"1\" class=\"Relation\">\n",
       "            <thead> <tr style=\"text-align: right;\"> <th> <div class=\"djtooltip\">\n",
       "                            <p id=\"primary\">hidden_size</p>\n",
       "                            <span class=\"djtooltiptext\">size of hidden layer</span>\n",
       "                        </div> </th> </tr> </thead>\n",
       "            <tbody> <tr> <td>50</td> </tr> </tbody>\n",
       "        </table>\n",
       "        \n",
       "        <p>Total: 1</p></div>\n",
       "        "
      ],
      "text/plain": [
       "*hidden_size  \n",
       "+------------+\n",
       "50            \n",
       " (Total: 1)"
      ]
     },
     "execution_count": 21,
     "metadata": {},
     "output_type": "execute_result"
    }
   ],
   "source": [
    "NetworkConfig()"
   ]
  },
  {
   "cell_type": "code",
   "execution_count": 22,
   "metadata": {},
   "outputs": [
    {
     "name": "stdout",
     "output_type": "stream",
     "text": [
      "Epoch 0 Loss: 2.401687\n",
      "Epoch 0 Loss: 1.554016\n",
      "Epoch 0 Loss: 1.117776\n",
      "Epoch 0 Loss: 0.725663\n",
      "Epoch 0 Loss: 0.708018\n",
      "Epoch 0 Loss: 0.514487\n",
      "Epoch 0 Loss: 0.703273\n",
      "Epoch 0 Loss: 0.448390\n",
      "Epoch 0 Loss: 0.416885\n",
      "Epoch 0 Loss: 0.488052\n",
      "Epoch 1 Loss: 0.414082\n",
      "Epoch 1 Loss: 0.372046\n",
      "Epoch 1 Loss: 0.342033\n",
      "Epoch 1 Loss: 0.650801\n",
      "Epoch 1 Loss: 0.477026\n",
      "Epoch 1 Loss: 0.254260\n",
      "Epoch 1 Loss: 0.264707\n",
      "Epoch 1 Loss: 0.486194\n",
      "Epoch 1 Loss: 0.411908\n",
      "Epoch 1 Loss: 0.241437\n",
      "Epoch 2 Loss: 0.249183\n",
      "Epoch 2 Loss: 0.302817\n",
      "Epoch 2 Loss: 0.385884\n",
      "Epoch 2 Loss: 0.425442\n",
      "Epoch 2 Loss: 0.259035\n",
      "Epoch 2 Loss: 0.318710\n",
      "Epoch 2 Loss: 0.466916\n",
      "Epoch 2 Loss: 0.214962\n",
      "Epoch 2 Loss: 0.260632\n",
      "Epoch 2 Loss: 0.249120\n",
      "Training completed in 34.89 seconds\n",
      "\n",
      "Test set: Average loss: 0.3008, Accuracy: 54897/60000 (91%)\n",
      "\n"
     ]
    }
   ],
   "source": [
    "TrainedNetwork.populate()"
   ]
  },
  {
   "cell_type": "code",
   "execution_count": 23,
   "metadata": {},
   "outputs": [
    {
     "data": {
      "text/html": [
       "\n",
       "    \n",
       "    <style type=\"text/css\">\n",
       "        .Relation{\n",
       "            border-collapse:collapse;\n",
       "        }\n",
       "        .Relation th{\n",
       "            background: #A0A0A0; color: #ffffff; padding:4px; border:#f0e0e0 1px solid;\n",
       "            font-weight: normal; font-family: monospace; font-size: 100%;\n",
       "        }\n",
       "        .Relation td{\n",
       "            padding:4px; border:#f0e0e0 1px solid; font-size:100%;\n",
       "        }\n",
       "        .Relation tr:nth-child(odd){\n",
       "            background: #ffffff;\n",
       "        }\n",
       "        .Relation tr:nth-child(even){\n",
       "            background: #f3f1ff;\n",
       "        }\n",
       "        /* Tooltip container */\n",
       "        .djtooltip {\n",
       "        }\n",
       "        /* Tooltip text */\n",
       "        .djtooltip .djtooltiptext {\n",
       "            visibility: hidden;\n",
       "            width: 120px;\n",
       "            background-color: black;\n",
       "            color: #fff;\n",
       "            text-align: center;\n",
       "            padding: 5px 0;\n",
       "            border-radius: 6px;\n",
       "            /* Position the tooltip text - see examples below! */\n",
       "            position: absolute;\n",
       "            z-index: 1;\n",
       "        }\n",
       "        #primary {\n",
       "            font-weight: bold;\n",
       "            color: black;\n",
       "        }\n",
       "        #nonprimary {\n",
       "            font-weight: normal;\n",
       "            color: white;\n",
       "        }\n",
       "\n",
       "        /* Show the tooltip text when you mouse over the tooltip container */\n",
       "        .djtooltip:hover .djtooltiptext {\n",
       "            visibility: visible;\n",
       "        }\n",
       "    </style>\n",
       "    \n",
       "    <b></b>\n",
       "        <div style=\"max-height:1000px;max-width:1500px;overflow:auto;\">\n",
       "        <table border=\"1\" class=\"Relation\">\n",
       "            <thead> <tr style=\"text-align: right;\"> <th> <div class=\"djtooltip\">\n",
       "                            <p id=\"primary\">hidden_size</p>\n",
       "                            <span class=\"djtooltiptext\">size of hidden layer</span>\n",
       "                        </div></th><th><div class=\"djtooltip\">\n",
       "                            <p id=\"primary\">train_config_id</p>\n",
       "                            <span class=\"djtooltiptext\">unique id for a training config</span>\n",
       "                        </div></th><th><div class=\"djtooltip\">\n",
       "                            <p id=\"nonprimary\">train_duration</p>\n",
       "                            <span class=\"djtooltiptext\">duration of training in seconds</span>\n",
       "                        </div></th><th><div class=\"djtooltip\">\n",
       "                            <p id=\"nonprimary\">test_loss</p>\n",
       "                            <span class=\"djtooltiptext\">loss on the test set</span>\n",
       "                        </div></th><th><div class=\"djtooltip\">\n",
       "                            <p id=\"nonprimary\">test_acc</p>\n",
       "                            <span class=\"djtooltiptext\">accuracy on the test set</span>\n",
       "                        </div> </th> </tr> </thead>\n",
       "            <tbody> <tr> <td>50</td>\n",
       "<td>0</td>\n",
       "<td>34.8941</td>\n",
       "<td>0.300849</td>\n",
       "<td>0.91495</td> </tr> </tbody>\n",
       "        </table>\n",
       "        \n",
       "        <p>Total: 1</p></div>\n",
       "        "
      ],
      "text/plain": [
       "*hidden_size   *train_config_ train_duration test_loss     test_acc    \n",
       "+------------+ +------------+ +------------+ +-----------+ +----------+\n",
       "50             0              34.8941        0.300849      0.91495     \n",
       " (Total: 1)"
      ]
     },
     "execution_count": 23,
     "metadata": {},
     "output_type": "execute_result"
    }
   ],
   "source": [
    "TrainedNetwork()"
   ]
  },
  {
   "cell_type": "markdown",
   "metadata": {},
   "source": [
    "## Try more hyperparameter values"
   ]
  },
  {
   "cell_type": "markdown",
   "metadata": {},
   "source": [
    "Now let's add a few more entries into the config tables and try out different combinations of hyperparameters for network training."
   ]
  },
  {
   "cell_type": "code",
   "execution_count": 24,
   "metadata": {},
   "outputs": [],
   "source": [
    "NetworkConfig().insert1((200, ))"
   ]
  },
  {
   "cell_type": "code",
   "execution_count": 25,
   "metadata": {},
   "outputs": [
    {
     "data": {
      "text/html": [
       "\n",
       "    \n",
       "    <style type=\"text/css\">\n",
       "        .Relation{\n",
       "            border-collapse:collapse;\n",
       "        }\n",
       "        .Relation th{\n",
       "            background: #A0A0A0; color: #ffffff; padding:4px; border:#f0e0e0 1px solid;\n",
       "            font-weight: normal; font-family: monospace; font-size: 100%;\n",
       "        }\n",
       "        .Relation td{\n",
       "            padding:4px; border:#f0e0e0 1px solid; font-size:100%;\n",
       "        }\n",
       "        .Relation tr:nth-child(odd){\n",
       "            background: #ffffff;\n",
       "        }\n",
       "        .Relation tr:nth-child(even){\n",
       "            background: #f3f1ff;\n",
       "        }\n",
       "        /* Tooltip container */\n",
       "        .djtooltip {\n",
       "        }\n",
       "        /* Tooltip text */\n",
       "        .djtooltip .djtooltiptext {\n",
       "            visibility: hidden;\n",
       "            width: 120px;\n",
       "            background-color: black;\n",
       "            color: #fff;\n",
       "            text-align: center;\n",
       "            padding: 5px 0;\n",
       "            border-radius: 6px;\n",
       "            /* Position the tooltip text - see examples below! */\n",
       "            position: absolute;\n",
       "            z-index: 1;\n",
       "        }\n",
       "        #primary {\n",
       "            font-weight: bold;\n",
       "            color: black;\n",
       "        }\n",
       "        #nonprimary {\n",
       "            font-weight: normal;\n",
       "            color: white;\n",
       "        }\n",
       "\n",
       "        /* Show the tooltip text when you mouse over the tooltip container */\n",
       "        .djtooltip:hover .djtooltiptext {\n",
       "            visibility: visible;\n",
       "        }\n",
       "    </style>\n",
       "    \n",
       "    <b></b>\n",
       "        <div style=\"max-height:1000px;max-width:1500px;overflow:auto;\">\n",
       "        <table border=\"1\" class=\"Relation\">\n",
       "            <thead> <tr style=\"text-align: right;\"> <th> <div class=\"djtooltip\">\n",
       "                            <p id=\"primary\">hidden_size</p>\n",
       "                            <span class=\"djtooltiptext\">size of hidden layer</span>\n",
       "                        </div> </th> </tr> </thead>\n",
       "            <tbody> <tr> <td>50</td></tr><tr><td>200</td> </tr> </tbody>\n",
       "        </table>\n",
       "        \n",
       "        <p>Total: 2</p></div>\n",
       "        "
      ],
      "text/plain": [
       "*hidden_size  \n",
       "+------------+\n",
       "50            \n",
       "200           \n",
       " (Total: 2)"
      ]
     },
     "execution_count": 25,
     "metadata": {},
     "output_type": "execute_result"
    }
   ],
   "source": [
    "NetworkConfig()"
   ]
  },
  {
   "cell_type": "code",
   "execution_count": 26,
   "metadata": {},
   "outputs": [],
   "source": [
    "TrainingConfig.insert1([1, 0.005, 64, 5])"
   ]
  },
  {
   "cell_type": "code",
   "execution_count": 27,
   "metadata": {},
   "outputs": [
    {
     "data": {
      "text/html": [
       "\n",
       "    \n",
       "    <style type=\"text/css\">\n",
       "        .Relation{\n",
       "            border-collapse:collapse;\n",
       "        }\n",
       "        .Relation th{\n",
       "            background: #A0A0A0; color: #ffffff; padding:4px; border:#f0e0e0 1px solid;\n",
       "            font-weight: normal; font-family: monospace; font-size: 100%;\n",
       "        }\n",
       "        .Relation td{\n",
       "            padding:4px; border:#f0e0e0 1px solid; font-size:100%;\n",
       "        }\n",
       "        .Relation tr:nth-child(odd){\n",
       "            background: #ffffff;\n",
       "        }\n",
       "        .Relation tr:nth-child(even){\n",
       "            background: #f3f1ff;\n",
       "        }\n",
       "        /* Tooltip container */\n",
       "        .djtooltip {\n",
       "        }\n",
       "        /* Tooltip text */\n",
       "        .djtooltip .djtooltiptext {\n",
       "            visibility: hidden;\n",
       "            width: 120px;\n",
       "            background-color: black;\n",
       "            color: #fff;\n",
       "            text-align: center;\n",
       "            padding: 5px 0;\n",
       "            border-radius: 6px;\n",
       "            /* Position the tooltip text - see examples below! */\n",
       "            position: absolute;\n",
       "            z-index: 1;\n",
       "        }\n",
       "        #primary {\n",
       "            font-weight: bold;\n",
       "            color: black;\n",
       "        }\n",
       "        #nonprimary {\n",
       "            font-weight: normal;\n",
       "            color: white;\n",
       "        }\n",
       "\n",
       "        /* Show the tooltip text when you mouse over the tooltip container */\n",
       "        .djtooltip:hover .djtooltiptext {\n",
       "            visibility: visible;\n",
       "        }\n",
       "    </style>\n",
       "    \n",
       "    <b></b>\n",
       "        <div style=\"max-height:1000px;max-width:1500px;overflow:auto;\">\n",
       "        <table border=\"1\" class=\"Relation\">\n",
       "            <thead> <tr style=\"text-align: right;\"> <th> <div class=\"djtooltip\">\n",
       "                            <p id=\"primary\">train_config_id</p>\n",
       "                            <span class=\"djtooltiptext\">unique id for a training config</span>\n",
       "                        </div></th><th><div class=\"djtooltip\">\n",
       "                            <p id=\"nonprimary\">learning_rate</p>\n",
       "                            <span class=\"djtooltiptext\">learning rate for SGD</span>\n",
       "                        </div></th><th><div class=\"djtooltip\">\n",
       "                            <p id=\"nonprimary\">batch_size</p>\n",
       "                            <span class=\"djtooltiptext\">batch_size for training</span>\n",
       "                        </div></th><th><div class=\"djtooltip\">\n",
       "                            <p id=\"nonprimary\">n_epochs</p>\n",
       "                            <span class=\"djtooltiptext\">number of epochs to train</span>\n",
       "                        </div> </th> </tr> </thead>\n",
       "            <tbody> <tr> <td>0</td>\n",
       "<td>0.005</td>\n",
       "<td>64</td>\n",
       "<td>3</td></tr><tr><td>1</td>\n",
       "<td>0.005</td>\n",
       "<td>64</td>\n",
       "<td>5</td> </tr> </tbody>\n",
       "        </table>\n",
       "        \n",
       "        <p>Total: 2</p></div>\n",
       "        "
      ],
      "text/plain": [
       "*train_config_ learning_rate  batch_size     n_epochs    \n",
       "+------------+ +------------+ +------------+ +----------+\n",
       "0              0.005          64             3           \n",
       "1              0.005          64             5           \n",
       " (Total: 2)"
      ]
     },
     "execution_count": 27,
     "metadata": {},
     "output_type": "execute_result"
    }
   ],
   "source": [
    "TrainingConfig()"
   ]
  },
  {
   "cell_type": "code",
   "execution_count": 28,
   "metadata": {},
   "outputs": [
    {
     "name": "stderr",
     "output_type": "stream",
     "text": [
      "TrainedNetwork:   0%|          | 0/3 [00:00<?, ?it/s]"
     ]
    },
    {
     "name": "stdout",
     "output_type": "stream",
     "text": [
      "Epoch 0 Loss: 2.356392\n",
      "Epoch 0 Loss: 1.503497\n",
      "Epoch 0 Loss: 1.137181\n",
      "Epoch 0 Loss: 0.787948\n",
      "Epoch 0 Loss: 0.578855\n",
      "Epoch 0 Loss: 0.522184\n",
      "Epoch 0 Loss: 0.384749\n",
      "Epoch 0 Loss: 0.506372\n",
      "Epoch 0 Loss: 0.614739\n",
      "Epoch 0 Loss: 0.355393\n",
      "Epoch 1 Loss: 0.479378\n",
      "Epoch 1 Loss: 0.407299\n",
      "Epoch 1 Loss: 0.413924\n",
      "Epoch 1 Loss: 0.448910\n",
      "Epoch 1 Loss: 0.450451\n",
      "Epoch 1 Loss: 0.266469\n",
      "Epoch 1 Loss: 0.287065\n",
      "Epoch 1 Loss: 0.414213\n",
      "Epoch 1 Loss: 0.530107\n",
      "Epoch 1 Loss: 0.159515\n",
      "Epoch 2 Loss: 0.312425\n",
      "Epoch 2 Loss: 0.315234\n",
      "Epoch 2 Loss: 0.301359\n",
      "Epoch 2 Loss: 0.270998\n",
      "Epoch 2 Loss: 0.223863\n",
      "Epoch 2 Loss: 0.285616\n",
      "Epoch 2 Loss: 0.305594\n",
      "Epoch 2 Loss: 0.580377\n",
      "Epoch 2 Loss: 0.305043\n",
      "Epoch 2 Loss: 0.162520\n",
      "Training completed in 35.97 seconds\n"
     ]
    },
    {
     "name": "stderr",
     "output_type": "stream",
     "text": [
      "TrainedNetwork:  33%|███▎      | 1/3 [00:47<01:34, 47.41s/it]"
     ]
    },
    {
     "name": "stdout",
     "output_type": "stream",
     "text": [
      "\n",
      "Test set: Average loss: 0.2906, Accuracy: 54953/60000 (92%)\n",
      "\n",
      "Epoch 0 Loss: 2.339569\n",
      "Epoch 0 Loss: 1.332162\n",
      "Epoch 0 Loss: 0.993663\n",
      "Epoch 0 Loss: 0.758467\n",
      "Epoch 0 Loss: 0.699886\n",
      "Epoch 0 Loss: 0.480846\n",
      "Epoch 0 Loss: 0.406586\n",
      "Epoch 0 Loss: 0.342569\n",
      "Epoch 0 Loss: 0.499244\n",
      "Epoch 0 Loss: 0.397431\n",
      "Epoch 1 Loss: 0.310082\n",
      "Epoch 1 Loss: 0.438363\n",
      "Epoch 1 Loss: 0.265766\n",
      "Epoch 1 Loss: 0.393459\n",
      "Epoch 1 Loss: 0.370261\n",
      "Epoch 1 Loss: 0.363860\n",
      "Epoch 1 Loss: 0.432326\n",
      "Epoch 1 Loss: 0.333886\n"
     ]
    },
    {
     "name": "stderr",
     "output_type": "stream",
     "text": [
      "TrainedNetwork:  33%|███▎      | 1/3 [01:09<02:19, 69.91s/it]\n",
      "\n",
      "KeyboardInterrupt\n",
      "\n"
     ]
    }
   ],
   "source": [
    "TrainedNetwork.populate(display_progress=True)"
   ]
  },
  {
   "cell_type": "code",
   "execution_count": 29,
   "metadata": {},
   "outputs": [
    {
     "data": {
      "text/html": [
       "\n",
       "    \n",
       "    <style type=\"text/css\">\n",
       "        .Relation{\n",
       "            border-collapse:collapse;\n",
       "        }\n",
       "        .Relation th{\n",
       "            background: #A0A0A0; color: #ffffff; padding:4px; border:#f0e0e0 1px solid;\n",
       "            font-weight: normal; font-family: monospace; font-size: 100%;\n",
       "        }\n",
       "        .Relation td{\n",
       "            padding:4px; border:#f0e0e0 1px solid; font-size:100%;\n",
       "        }\n",
       "        .Relation tr:nth-child(odd){\n",
       "            background: #ffffff;\n",
       "        }\n",
       "        .Relation tr:nth-child(even){\n",
       "            background: #f3f1ff;\n",
       "        }\n",
       "        /* Tooltip container */\n",
       "        .djtooltip {\n",
       "        }\n",
       "        /* Tooltip text */\n",
       "        .djtooltip .djtooltiptext {\n",
       "            visibility: hidden;\n",
       "            width: 120px;\n",
       "            background-color: black;\n",
       "            color: #fff;\n",
       "            text-align: center;\n",
       "            padding: 5px 0;\n",
       "            border-radius: 6px;\n",
       "            /* Position the tooltip text - see examples below! */\n",
       "            position: absolute;\n",
       "            z-index: 1;\n",
       "        }\n",
       "        #primary {\n",
       "            font-weight: bold;\n",
       "            color: black;\n",
       "        }\n",
       "        #nonprimary {\n",
       "            font-weight: normal;\n",
       "            color: white;\n",
       "        }\n",
       "\n",
       "        /* Show the tooltip text when you mouse over the tooltip container */\n",
       "        .djtooltip:hover .djtooltiptext {\n",
       "            visibility: visible;\n",
       "        }\n",
       "    </style>\n",
       "    \n",
       "    <b></b>\n",
       "        <div style=\"max-height:1000px;max-width:1500px;overflow:auto;\">\n",
       "        <table border=\"1\" class=\"Relation\">\n",
       "            <thead> <tr style=\"text-align: right;\"> <th> <div class=\"djtooltip\">\n",
       "                            <p id=\"primary\">hidden_size</p>\n",
       "                            <span class=\"djtooltiptext\">size of hidden layer</span>\n",
       "                        </div></th><th><div class=\"djtooltip\">\n",
       "                            <p id=\"primary\">train_config_id</p>\n",
       "                            <span class=\"djtooltiptext\">unique id for a training config</span>\n",
       "                        </div></th><th><div class=\"djtooltip\">\n",
       "                            <p id=\"nonprimary\">train_duration</p>\n",
       "                            <span class=\"djtooltiptext\">duration of training in seconds</span>\n",
       "                        </div></th><th><div class=\"djtooltip\">\n",
       "                            <p id=\"nonprimary\">test_loss</p>\n",
       "                            <span class=\"djtooltiptext\">loss on the test set</span>\n",
       "                        </div></th><th><div class=\"djtooltip\">\n",
       "                            <p id=\"nonprimary\">test_acc</p>\n",
       "                            <span class=\"djtooltiptext\">accuracy on the test set</span>\n",
       "                        </div> </th> </tr> </thead>\n",
       "            <tbody> <tr> <td>50</td>\n",
       "<td>0</td>\n",
       "<td>34.8941</td>\n",
       "<td>0.300849</td>\n",
       "<td>0.91495</td></tr><tr><td>200</td>\n",
       "<td>0</td>\n",
       "<td>35.9681</td>\n",
       "<td>0.29064</td>\n",
       "<td>0.915883</td> </tr> </tbody>\n",
       "        </table>\n",
       "        \n",
       "        <p>Total: 2</p></div>\n",
       "        "
      ],
      "text/plain": [
       "*hidden_size   *train_config_ train_duration test_loss     test_acc    \n",
       "+------------+ +------------+ +------------+ +-----------+ +----------+\n",
       "50             0              34.8941        0.300849      0.91495     \n",
       "200            0              35.9681        0.29064       0.915883    \n",
       " (Total: 2)"
      ]
     },
     "execution_count": 29,
     "metadata": {},
     "output_type": "execute_result"
    }
   ],
   "source": [
    "TrainedNetwork()"
   ]
  },
  {
   "cell_type": "code",
   "execution_count": 30,
   "metadata": {},
   "outputs": [
    {
     "data": {
      "text/html": [
       "\n",
       "    \n",
       "    <style type=\"text/css\">\n",
       "        .Relation{\n",
       "            border-collapse:collapse;\n",
       "        }\n",
       "        .Relation th{\n",
       "            background: #A0A0A0; color: #ffffff; padding:4px; border:#f0e0e0 1px solid;\n",
       "            font-weight: normal; font-family: monospace; font-size: 100%;\n",
       "        }\n",
       "        .Relation td{\n",
       "            padding:4px; border:#f0e0e0 1px solid; font-size:100%;\n",
       "        }\n",
       "        .Relation tr:nth-child(odd){\n",
       "            background: #ffffff;\n",
       "        }\n",
       "        .Relation tr:nth-child(even){\n",
       "            background: #f3f1ff;\n",
       "        }\n",
       "        /* Tooltip container */\n",
       "        .djtooltip {\n",
       "        }\n",
       "        /* Tooltip text */\n",
       "        .djtooltip .djtooltiptext {\n",
       "            visibility: hidden;\n",
       "            width: 120px;\n",
       "            background-color: black;\n",
       "            color: #fff;\n",
       "            text-align: center;\n",
       "            padding: 5px 0;\n",
       "            border-radius: 6px;\n",
       "            /* Position the tooltip text - see examples below! */\n",
       "            position: absolute;\n",
       "            z-index: 1;\n",
       "        }\n",
       "        #primary {\n",
       "            font-weight: bold;\n",
       "            color: black;\n",
       "        }\n",
       "        #nonprimary {\n",
       "            font-weight: normal;\n",
       "            color: white;\n",
       "        }\n",
       "\n",
       "        /* Show the tooltip text when you mouse over the tooltip container */\n",
       "        .djtooltip:hover .djtooltiptext {\n",
       "            visibility: visible;\n",
       "        }\n",
       "    </style>\n",
       "    \n",
       "    \n",
       "        <div style=\"max-height:1000px;max-width:1500px;overflow:auto;\">\n",
       "        <table border=\"1\" class=\"Relation\">\n",
       "            <thead> <tr style=\"text-align: right;\"> <th> <div class=\"djtooltip\">\n",
       "                            <p id=\"primary\">hidden_size</p>\n",
       "                            <span class=\"djtooltiptext\">size of hidden layer</span>\n",
       "                        </div></th><th><div class=\"djtooltip\">\n",
       "                            <p id=\"primary\">train_config_id</p>\n",
       "                            <span class=\"djtooltiptext\">unique id for a training config</span>\n",
       "                        </div></th><th><div class=\"djtooltip\">\n",
       "                            <p id=\"nonprimary\">train_duration</p>\n",
       "                            <span class=\"djtooltiptext\">duration of training in seconds</span>\n",
       "                        </div></th><th><div class=\"djtooltip\">\n",
       "                            <p id=\"nonprimary\">test_loss</p>\n",
       "                            <span class=\"djtooltiptext\">loss on the test set</span>\n",
       "                        </div></th><th><div class=\"djtooltip\">\n",
       "                            <p id=\"nonprimary\">test_acc</p>\n",
       "                            <span class=\"djtooltiptext\">accuracy on the test set</span>\n",
       "                        </div></th><th><div class=\"djtooltip\">\n",
       "                            <p id=\"nonprimary\">learning_rate</p>\n",
       "                            <span class=\"djtooltiptext\">learning rate for SGD</span>\n",
       "                        </div></th><th><div class=\"djtooltip\">\n",
       "                            <p id=\"nonprimary\">batch_size</p>\n",
       "                            <span class=\"djtooltiptext\">batch_size for training</span>\n",
       "                        </div></th><th><div class=\"djtooltip\">\n",
       "                            <p id=\"nonprimary\">n_epochs</p>\n",
       "                            <span class=\"djtooltiptext\">number of epochs to train</span>\n",
       "                        </div> </th> </tr> </thead>\n",
       "            <tbody> <tr> <td>50</td>\n",
       "<td>0</td>\n",
       "<td>34.8941</td>\n",
       "<td>0.300849</td>\n",
       "<td>0.91495</td>\n",
       "<td>0.005</td>\n",
       "<td>64</td>\n",
       "<td>3</td></tr><tr><td>200</td>\n",
       "<td>0</td>\n",
       "<td>35.9681</td>\n",
       "<td>0.29064</td>\n",
       "<td>0.915883</td>\n",
       "<td>0.005</td>\n",
       "<td>64</td>\n",
       "<td>3</td> </tr> </tbody>\n",
       "        </table>\n",
       "        \n",
       "        <p>Total: 2</p></div>\n",
       "        "
      ],
      "text/plain": [
       "*hidden_size   *train_config_ train_duration test_loss     test_acc     learning_rate  batch_size     n_epochs    \n",
       "+------------+ +------------+ +------------+ +-----------+ +----------+ +------------+ +------------+ +----------+\n",
       "50             0              34.8941        0.300849      0.91495      0.005          64             3           \n",
       "200            0              35.9681        0.29064       0.915883     0.005          64             3           \n",
       " (Total: 2)"
      ]
     },
     "execution_count": 30,
     "metadata": {},
     "output_type": "execute_result"
    }
   ],
   "source": [
    "TrainedNetwork * TrainingConfig"
   ]
  },
  {
   "cell_type": "code",
   "execution_count": null,
   "metadata": {},
   "outputs": [],
   "source": []
  }
 ],
 "metadata": {
  "kernelspec": {
   "display_name": "Python 3 (ipykernel)",
   "language": "python",
   "name": "python3"
  },
  "language_info": {
   "codemirror_mode": {
    "name": "ipython",
    "version": 3
   },
   "file_extension": ".py",
   "mimetype": "text/x-python",
   "name": "python",
   "nbconvert_exporter": "python",
   "pygments_lexer": "ipython3",
   "version": "3.8.10"
  }
 },
 "nbformat": 4,
 "nbformat_minor": 4
}
