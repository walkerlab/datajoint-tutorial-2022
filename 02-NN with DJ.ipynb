{
 "cells": [
  {
   "cell_type": "markdown",
   "metadata": {},
   "source": [
    "# Neural Network Training with DataJoint"
   ]
  },
  {
   "cell_type": "markdown",
   "metadata": {},
   "source": [
    "In this session, we are going to look at how we can use DataJoint to train neural networks, exploring various **hyperparameters** for the training."
   ]
  },
  {
   "cell_type": "markdown",
   "metadata": {},
   "source": [
    "As always we are going to start with importing the essential scientific Python packages"
   ]
  },
  {
   "cell_type": "code",
   "execution_count": null,
   "metadata": {},
   "outputs": [],
   "source": [
    "import numpy as np\n",
    "import matplotlib.pyplot as plt\n",
    "import datajoint as dj\n",
    "import time\n",
    "from tqdm import tqdm"
   ]
  },
  {
   "cell_type": "markdown",
   "metadata": {},
   "source": [
    "and we are also going to import the PyTorch package `torch` as well as the associated `torchvision` package that provides means of downloading and handling popular machine learning datasets."
   ]
  },
  {
   "cell_type": "code",
   "execution_count": null,
   "metadata": {},
   "outputs": [],
   "source": [
    "import torch # import the PyTorch package\n",
    "import torchvision # import trochvision package\n",
    "from torchvision import transforms # get torchvision's transforms subpackage"
   ]
  },
  {
   "cell_type": "markdown",
   "metadata": {},
   "source": [
    "As an example, we'll work with MNIST handwritten digit datasets."
   ]
  },
  {
   "cell_type": "code",
   "execution_count": null,
   "metadata": {},
   "outputs": [],
   "source": [
    "# create a composite transform that first converts images to tensors and then normalize the images\n",
    "image_transform = transforms.Compose([\n",
    "    transforms.ToTensor(), # converts images into Tensors\n",
    "    transforms.Normalize([0.1307], [0.3081])\n",
    "])\n",
    "\n",
    "# apply the transforms at the time of dataset loading\n",
    "train_set = torchvision.datasets.MNIST('./data', train=True, download=True,\n",
    "                                          transform=image_transform)\n",
    "test_set = torchvision.datasets.MNIST('./data', train=True, download=True,\n",
    "                                          transform=image_transform)"
   ]
  },
  {
   "cell_type": "markdown",
   "metadata": {},
   "source": [
    "This returns Torchvision's special **dataset** object that can be used to represent **supervised datasets** consisting of both inputs (i.e. images) and targets (i.e. digit labels)."
   ]
  },
  {
   "cell_type": "code",
   "execution_count": null,
   "metadata": {},
   "outputs": [],
   "source": [
    "len(train_set)"
   ]
  },
  {
   "cell_type": "code",
   "execution_count": null,
   "metadata": {},
   "outputs": [],
   "source": [
    "image, label = train_set[100]"
   ]
  },
  {
   "cell_type": "code",
   "execution_count": null,
   "metadata": {},
   "outputs": [],
   "source": [
    "plt.imshow(image.squeeze(), cmap='gray')\n",
    "plt.title('Digit: {}'.format(label))"
   ]
  },
  {
   "cell_type": "code",
   "execution_count": null,
   "metadata": {},
   "outputs": [],
   "source": [
    "fig, axs = plt.subplots(5, 5, figsize=(6, 6), dpi=150)\n",
    "\n",
    "for i, ax in enumerate(axs.ravel()):\n",
    "    image, label = train_set[i]\n",
    "    ax.imshow(image.squeeze(), cmap='gray')\n",
    "    ax.set_title('Digit: {}'.format(label))\n",
    "    ax.axis('off')\n",
    "    \n",
    "fig.tight_layout()"
   ]
  },
  {
   "cell_type": "code",
   "execution_count": null,
   "metadata": {},
   "outputs": [],
   "source": [
    "image, label = test_set[3]"
   ]
  },
  {
   "cell_type": "code",
   "execution_count": null,
   "metadata": {},
   "outputs": [],
   "source": [
    "plt.imshow(image.squeeze(), cmap='gray')\n",
    "plt.title('Digit: {}'.format(label))"
   ]
  },
  {
   "cell_type": "markdown",
   "metadata": {},
   "source": [
    "# Building a network for classification"
   ]
  },
  {
   "cell_type": "markdown",
   "metadata": {},
   "source": [
    "In PyTorch, you define a new neural network by defining a **new class that inherits from nn.Module** as follows:"
   ]
  },
  {
   "cell_type": "code",
   "execution_count": null,
   "metadata": {},
   "outputs": [],
   "source": [
    "import torch.nn as nn\n",
    "import torch.nn.functional as F"
   ]
  },
  {
   "cell_type": "code",
   "execution_count": null,
   "metadata": {},
   "outputs": [],
   "source": [
    "class Network(nn.Module):\n",
    "    def __init__(self, hidden_size=50):\n",
    "        super().__init__()\n",
    "        self.fc1 = nn.Linear(784, hidden_size)\n",
    "        self.fc2 = nn.Linear(hidden_size, 10)\n",
    "        \n",
    "    def forward(self, x):\n",
    "        x = x.view(-1, 784) # flattens an image of form N x 1 x 28 x 28 -> N x 784\n",
    "        x = F.relu(self.fc1(x)) # first fully connected layer followed by ReLU\n",
    "        x = self.fc2(x) # third fully connected layer *without* output ReLU\n",
    "        x = F.log_softmax(x, dim=1) # make sure that probabilities add up to one, and then take log\n",
    "        return x"
   ]
  },
  {
   "cell_type": "markdown",
   "metadata": {},
   "source": [
    "This network was **one hyperparameter - the size of the hidden layer** (defaulting to 50 here)"
   ]
  },
  {
   "cell_type": "code",
   "execution_count": null,
   "metadata": {},
   "outputs": [],
   "source": [
    "batch_size = 64 # this is another hyperparameter!\n",
    "training_loader = torch.utils.data.DataLoader(train_set, batch_size=batch_size, shuffle=True)\n",
    "test_loader = torch.utils.data.DataLoader(test_set, batch_size=batch_size) # by default shuffle is False"
   ]
  },
  {
   "cell_type": "markdown",
   "metadata": {},
   "source": [
    "## Training the network"
   ]
  },
  {
   "cell_type": "code",
   "execution_count": null,
   "metadata": {},
   "outputs": [],
   "source": [
    "net = Network()\n",
    "net.train() # puts the network into the training mode\n",
    "\n",
    "# create and initialize an optimizer\n",
    "# learning rate is another hyperparameter!\n",
    "optimizer = torch.optim.SGD(net.parameters(), lr=0.005)\n",
    "\n",
    "start = time.time()\n",
    "for epoch_idx in range(3): # number of epochs is yet another hyperparameter!\n",
    "    for batch_idx, (data, target) in enumerate(training_loader):\n",
    "        # reset the gradient before the next gradient step\n",
    "        optimizer.zero_grad()\n",
    "\n",
    "        # evaluate the network output\n",
    "        output = net(data)\n",
    "\n",
    "        # compute the loss\n",
    "        loss = F.nll_loss(output, target)\n",
    "\n",
    "        # perform back propagation to compute gradients with respect to parameters!\n",
    "        loss.backward()\n",
    "\n",
    "        # perform a gradient descent step on the parameters\n",
    "        optimizer.step()\n",
    "\n",
    "        # report the loss every 100 batches\n",
    "        if batch_idx % 100 == 0:\n",
    "            print('Epoch {} Loss: {:.6f}'.format(epoch_idx, loss.item()))\n",
    "            \n",
    "duration = time.time() - start\n",
    "print('Training completed in {:.2f} seconds'.format(duration))"
   ]
  },
  {
   "cell_type": "markdown",
   "metadata": {},
   "source": [
    "## Evaluating the network"
   ]
  },
  {
   "cell_type": "code",
   "execution_count": null,
   "metadata": {},
   "outputs": [],
   "source": [
    "net.eval() # put network into evaluation model\n",
    "test_loss = 0\n",
    "correct = 0\n",
    "\n",
    "# prevents unnecessary gradient computation during test - can lead to time and memory saving\n",
    "with torch.no_grad(): \n",
    "    for data, target in tqdm(test_loader):\n",
    "        output = net(data)\n",
    "        \n",
    "        # sum up batch loss\n",
    "        test_loss += F.nll_loss(output, target, reduction='sum').item() \n",
    "        \n",
    "        # get the index of the max log-probability\n",
    "        pred = output.max(1, keepdim=True)[1] \n",
    "        \n",
    "        # count number of times where max probability matches the label index\n",
    "        correct += pred.eq(target.view_as(pred)).sum().item()\n",
    "\n",
    "# divide the test loss by number of samples in the test set\n",
    "test_loss /= len(test_loader.dataset)\n",
    "accuracy = correct / len(test_loader.dataset)\n",
    "\n",
    "print('\\nTest set: Average loss: {:.4f}, Accuracy: {}/{} ({:.0f}%)\\n'.format(\n",
    "    test_loss, correct, len(test_loader.dataset),\n",
    "    100. * accuracy))"
   ]
  },
  {
   "cell_type": "markdown",
   "metadata": {},
   "source": [
    "Let's look at actual guesses"
   ]
  },
  {
   "cell_type": "code",
   "execution_count": null,
   "metadata": {},
   "outputs": [],
   "source": [
    "fig, axs = plt.subplots(5, 5, figsize=(6, 6), dpi=150)\n",
    "image_order = np.random.permutation(len(test_set))\n",
    "for i, ax in zip(image_order, axs.ravel()):\n",
    "    image, label = test_set[i]\n",
    "    p = torch.exp(net(image))\n",
    "    digit = torch.argmax(p)\n",
    "    ax.imshow(image.squeeze(), cmap='gray')\n",
    "    ax.set_title('Guess: {}\\nActual: {}'.format(digit, label))\n",
    "    ax.axis('off')\n",
    "    \n",
    "fig.tight_layout()"
   ]
  },
  {
   "cell_type": "markdown",
   "metadata": {},
   "source": [
    "## Using DataJoint to coordinate the training"
   ]
  },
  {
   "cell_type": "markdown",
   "metadata": {},
   "source": [
    "Now let's see how we can use DataJoint to streamline this process."
   ]
  },
  {
   "cell_type": "code",
   "execution_count": null,
   "metadata": {},
   "outputs": [],
   "source": [
    "import datajoint as dj"
   ]
  },
  {
   "cell_type": "code",
   "execution_count": null,
   "metadata": {},
   "outputs": [],
   "source": [
    "# create a new schema to house tables for network training\n",
    "schema = dj.schema('network')"
   ]
  },
  {
   "cell_type": "code",
   "execution_count": null,
   "metadata": {},
   "outputs": [],
   "source": [
    "@schema\n",
    "class NetworkConfig(dj.Lookup):\n",
    "    definition = \"\"\"\n",
    "    hidden_size: int    # size of hidden layer\n",
    "    \"\"\"\n",
    "    contents = zip([50])\n",
    "    \n",
    "@schema\n",
    "class TrainingConfig(dj.Lookup):\n",
    "    definition = \"\"\"\n",
    "    train_config_id: int   # unique id for a training config\n",
    "    ---\n",
    "    learning_rate: float   # learning rate for SGD\n",
    "    batch_size: int        # batch_size for training\n",
    "    n_epochs: int          # number of epochs to train\n",
    "    \"\"\"\n",
    "    contents = [\n",
    "        (0, 0.005, 64, 3)\n",
    "    ]\n",
    "    \n",
    "\n",
    "@schema\n",
    "class TrainedNetwork(dj.Computed):\n",
    "    definition = \"\"\"\n",
    "    -> NetworkConfig\n",
    "    -> TrainingConfig\n",
    "    ---\n",
    "    train_duration: float   # duration of training in seconds\n",
    "    test_loss: float        # loss on the test set\n",
    "    test_acc: float         # accuracy on the test set\n",
    "    \"\"\"\n",
    "    \n",
    "    def make(self, key):\n",
    "        # Get configurations!\n",
    "        hidden_size = (NetworkConfig & key).fetch1('hidden_size')\n",
    "        learning_rate, batch_size, n_epochs = (TrainingConfig & key).fetch1('learning_rate',\n",
    "                                                                            'batch_size',\n",
    "                                                                            'n_epochs')\n",
    "        # convert from numpy array into int\n",
    "        batch_size, n_eochs = int(batch_size), int(n_epochs)\n",
    "        \n",
    "        # prepare the data\n",
    "        image_transform = transforms.Compose([\n",
    "            transforms.ToTensor(), # converts images into Tensors\n",
    "            transforms.Normalize([0.1307], [0.3081])\n",
    "        ])\n",
    "\n",
    "        # apply the transforms at the time of dataset loading\n",
    "        train_set = torchvision.datasets.MNIST('./data', train=True, download=True,\n",
    "                                                  transform=image_transform)\n",
    "        test_set = torchvision.datasets.MNIST('./data', train=True, download=True,\n",
    "                                                  transform=image_transform)\n",
    "        \n",
    "        # prepare data loaders\n",
    "        training_loader = torch.utils.data.DataLoader(train_set, batch_size=batch_size, shuffle=True)\n",
    "        test_loader = torch.utils.data.DataLoader(test_set, batch_size=batch_size) # by default shuffle is False\n",
    "        \n",
    "        # instantiate the network\n",
    "        net = Network(hidden_size=hidden_size)\n",
    "        net.train() # puts the network into the training mode\n",
    "\n",
    "        # configure optimizer\n",
    "        optimizer = torch.optim.SGD(net.parameters(), lr=learning_rate)\n",
    "\n",
    "        start = time.time()\n",
    "        for epoch_idx in range(n_epochs):\n",
    "            for batch_idx, (data, target) in enumerate(training_loader):\n",
    "                # reset the gradient before the next gradient step\n",
    "                optimizer.zero_grad()\n",
    "\n",
    "                # evaluate the network output\n",
    "                output = net(data)\n",
    "\n",
    "                # compute the loss\n",
    "                loss = F.nll_loss(output, target)\n",
    "\n",
    "                # perform back propagation to compute gradients with respect to parameters!\n",
    "                loss.backward()\n",
    "\n",
    "                # perform a gradient descent step on the parameters\n",
    "                optimizer.step()\n",
    "\n",
    "                # report the loss every 100 batches\n",
    "                if batch_idx % 100 == 0:\n",
    "                    print('Epoch {} Loss: {:.6f}'.format(epoch_idx, loss.item()))\n",
    "\n",
    "        duration = time.time() - start\n",
    "        print('Training completed in {:.2f} seconds'.format(duration))\n",
    "        \n",
    "        ## Evaluate the network\n",
    "        net.eval() # put network into evaluation model\n",
    "        test_loss = 0\n",
    "        correct = 0\n",
    "\n",
    "        # prevents unnecessary gradient computation during test - can lead to time and memory saving\n",
    "        with torch.no_grad(): \n",
    "            for data, target in test_loader:\n",
    "                output = net(data)\n",
    "\n",
    "                # sum up batch loss\n",
    "                test_loss += F.nll_loss(output, target, reduction='sum').item() \n",
    "\n",
    "                # get the index of the max log-probability\n",
    "                pred = output.max(1, keepdim=True)[1] \n",
    "\n",
    "                # count number of times where max probability matches the label index\n",
    "                correct += pred.eq(target.view_as(pred)).sum().item()\n",
    "\n",
    "        # divide the test loss by number of samples in the test set\n",
    "        test_loss /= len(test_loader.dataset)\n",
    "        \n",
    "        # compute accuracy\n",
    "        accuracy = correct / len(test_loader.dataset)\n",
    "\n",
    "        print('\\nTest set: Average loss: {:.4f}, Accuracy: {}/{} ({:.0f}%)\\n'.format(\n",
    "            test_loss, correct, len(test_loader.dataset),\n",
    "            100. * accuracy))\n",
    "        \n",
    "        key['train_duration'] = duration\n",
    "        key['test_loss'] = test_loss\n",
    "        key['test_acc'] = accuracy\n",
    "        \n",
    "        self.insert1(key)"
   ]
  },
  {
   "cell_type": "code",
   "execution_count": null,
   "metadata": {},
   "outputs": [],
   "source": [
    "dj.Diagram(schema)"
   ]
  },
  {
   "cell_type": "code",
   "execution_count": null,
   "metadata": {},
   "outputs": [],
   "source": [
    "TrainingConfig()"
   ]
  },
  {
   "cell_type": "code",
   "execution_count": null,
   "metadata": {},
   "outputs": [],
   "source": [
    "NetworkConfig()"
   ]
  },
  {
   "cell_type": "code",
   "execution_count": null,
   "metadata": {},
   "outputs": [],
   "source": [
    "TrainedNetwork.populate()"
   ]
  },
  {
   "cell_type": "code",
   "execution_count": null,
   "metadata": {},
   "outputs": [],
   "source": [
    "TrainedNetwork()"
   ]
  },
  {
   "cell_type": "markdown",
   "metadata": {},
   "source": [
    "## Try more hyperparameter values"
   ]
  },
  {
   "cell_type": "markdown",
   "metadata": {},
   "source": [
    "Now let's add a few more entries into the config tables and try out different combinations of hyperparameters for network training."
   ]
  },
  {
   "cell_type": "code",
   "execution_count": null,
   "metadata": {},
   "outputs": [],
   "source": [
    "NetworkConfig().insert1((200, ))"
   ]
  },
  {
   "cell_type": "code",
   "execution_count": null,
   "metadata": {},
   "outputs": [],
   "source": [
    "NetworkConfig()"
   ]
  },
  {
   "cell_type": "code",
   "execution_count": null,
   "metadata": {},
   "outputs": [],
   "source": [
    "TrainingConfig.insert1([1, 0.005, 64, 5])"
   ]
  },
  {
   "cell_type": "code",
   "execution_count": null,
   "metadata": {},
   "outputs": [],
   "source": [
    "TrainingConfig()"
   ]
  },
  {
   "cell_type": "code",
   "execution_count": null,
   "metadata": {},
   "outputs": [],
   "source": [
    "TrainedNetwork.populate(display_progress=True)"
   ]
  },
  {
   "cell_type": "code",
   "execution_count": null,
   "metadata": {},
   "outputs": [],
   "source": [
    "TrainedNetwork()"
   ]
  },
  {
   "cell_type": "code",
   "execution_count": null,
   "metadata": {},
   "outputs": [],
   "source": [
    "TrainedNetwork * TrainingConfig"
   ]
  },
  {
   "cell_type": "code",
   "execution_count": null,
   "metadata": {},
   "outputs": [],
   "source": []
  }
 ],
 "metadata": {
  "kernelspec": {
   "display_name": "Python 3 (ipykernel)",
   "language": "python",
   "name": "python3"
  },
  "language_info": {
   "codemirror_mode": {
    "name": "ipython",
    "version": 3
   },
   "file_extension": ".py",
   "mimetype": "text/x-python",
   "name": "python",
   "nbconvert_exporter": "python",
   "pygments_lexer": "ipython3",
   "version": "3.8.10"
  }
 },
 "nbformat": 4,
 "nbformat_minor": 4
}
